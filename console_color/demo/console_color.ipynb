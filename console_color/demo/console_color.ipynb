{
 "cells": [
  {
   "cell_type": "markdown",
   "metadata": {
    "collapsed": true,
    "pycharm": {
     "name": "#%% md\n"
    }
   },
   "source": [
    "# How to run **ipynb**\n",
    "\n",
    "1. pip install jupyter\n",
    "- jupyter notebook my_notebook.ipynb\n",
    "\n",
    "**_NOTE:_**  cd your_work_dir and then `jupyter notebook .` is ok.\n",
    "\n",
    "# Import *console_color* library"
   ]
  },
  {
   "cell_type": "code",
   "execution_count": 1,
   "metadata": {
    "pycharm": {
     "name": "#%%\n"
    }
   },
   "outputs": [],
   "source": [
    "# from console_color import RGB, Fore, Style, cprint, create_print\n",
    "from console_color import *"
   ]
  },
  {
   "cell_type": "markdown",
   "metadata": {
    "pycharm": {
     "name": "#%% md\n"
    }
   },
   "source": [
    "## Only Fore"
   ]
  },
  {
   "cell_type": "code",
   "execution_count": 2,
   "metadata": {
    "pycharm": {
     "name": "#%%\n"
    }
   },
   "outputs": [
    {
     "name": "stdout",
     "output_type": "stream",
     "text": [
      "\u001B[38;2;255;0;0mred: RGB.RED\u001B[0m\n",
      "\u001B[48;2;255;0;0mred: #FF0000\u001B[0m\n",
      "\u001B[38;2;255;0;0mred: (255, 0, 0)\u001B[0m\n"
     ]
    }
   ],
   "source": [
    "cprint('red: RGB.RED', RGB.RED)\n",
    "cprint('red: #FF0000', bg='#FF0000')  # It doesn't matter for string upper or lower, and if you don't want to add the sign of #, it's ok too.\n",
    "cprint('red: (255, 0, 0)', (255, 0, 0))"
   ]
  },
  {
   "cell_type": "markdown",
   "metadata": {
    "pycharm": {
     "name": "#%% md\n"
    }
   },
   "source": [
    "## Only Background"
   ]
  },
  {
   "cell_type": "code",
   "execution_count": 3,
   "metadata": {
    "pycharm": {
     "name": "#%%\n"
    }
   },
   "outputs": [
    {
     "name": "stdout",
     "output_type": "stream",
     "text": [
      "\u001B[48;2;255;0;0mred: RGB.RED\u001B[0m\n",
      "\u001B[48;2;255;0;0mred: #FF0000\u001B[0m\n",
      "\u001B[48;2;255;0;0mred: (255, 0, 0)\u001B[0m\n"
     ]
    }
   ],
   "source": [
    "cprint('red: RGB.RED', bg=RGB.RED)\n",
    "cprint('red: #FF0000', bg='#ff0000')\n",
    "cprint('red: (255, 0, 0)', bg=(255, 0, 0))\n"
   ]
  },
  {
   "cell_type": "markdown",
   "metadata": {},
   "source": [
    "## Fore + Background"
   ]
  },
  {
   "cell_type": "code",
   "execution_count": 4,
   "metadata": {
    "pycharm": {
     "name": "#%%\n"
    }
   },
   "outputs": [
    {
     "name": "stdout",
     "output_type": "stream",
     "text": [
      "\u001B[48;2;255;255;0m\u001B[38;2;255;0;0mred: RGB.RED, RGB.YELLOW\u001B[0m\n",
      "\u001B[48;2;255;255;0m\u001B[38;2;255;0;0mred: FF0000, #FFFF00\u001B[0m\n",
      "\u001B[48;2;255;255;0m\u001B[38;2;255;0;0mred: (255, 0, 0), (255, 255, 0)\u001B[0m\n"
     ]
    }
   ],
   "source": [
    "cprint('red: RGB.RED, RGB.YELLOW', RGB.RED, RGB.YELLOW)\n",
    "cprint('red: FF0000, #FFFF00', 'FF0000', '#FFFF00')\n",
    "cprint('red: (255, 0, 0), (255, 255, 0)', (255, 0, 0), (255, 255, 0))"
   ]
  },
  {
   "cell_type": "markdown",
   "metadata": {},
   "source": [
    "## Style"
   ]
  },
  {
   "cell_type": "code",
   "execution_count": 5,
   "metadata": {
    "pycharm": {
     "name": "#%%\n"
    }
   },
   "outputs": [
    {
     "name": "stdout",
     "output_type": "stream",
     "text": [
      "\u001B[3mItalic\u001B[0m\n",
      "\u001B[1m\u001B[3mItalic and Bold\u001B[0m\n",
      "\u001B[9mStrike\u001B[0m\n"
     ]
    }
   ],
   "source": [
    "cprint('Italic', style=Style.ITALIC)  # The ipynb seems not to show both italic and strike well.\n",
    "cprint('Italic and Bold', style=Style.BOLD + Style.ITALIC)\n",
    "cprint('Strike', style=Style.STRIKE)"
   ]
  },
  {
   "cell_type": "markdown",
   "metadata": {},
   "source": [
    "## combine normal text\n",
    "\n",
    "set **pf = False**\n"
   ]
  },
  {
   "cell_type": "code",
   "execution_count": 6,
   "metadata": {
    "pycharm": {
     "name": "#%%\n"
    }
   },
   "outputs": [
    {
     "name": "stdout",
     "output_type": "stream",
     "text": [
      "123 \u001B[48;2;255;255;0m\u001B[38;2;255;0;0m\u001B[1m\u001B[3mFore=Red, bg=Yellow, Style=Italic and Bold\u001B[0m 456\n",
      "123 \u001B[1mBOLD\u001B[0m 456\n"
     ]
    }
   ],
   "source": [
    "print(f\"123 {cprint('Fore=Red, bg=Yellow, Style=Italic and Bold', RGB.RED, RGB.YELLOW, Style.BOLD + Style.ITALIC, False)} 456\")\n",
    "print(f\"123 {cprint('BOLD', style=Style.BOLD, pf=False)} 456\")\n"
   ]
  },
  {
   "cell_type": "markdown",
   "metadata": {},
   "source": [
    "## keeping the setting"
   ]
  },
  {
   "cell_type": "code",
   "execution_count": 7,
   "metadata": {
    "pycharm": {
     "name": "#%%\n"
    }
   },
   "outputs": [
    {
     "name": "stdout",
     "output_type": "stream",
     "text": [
      "fore='FF0000', bg='#FFFF00'\n",
      "\u001B[48;2;255;255;0m\u001B[38;2;255;0;0mfore='FF0000', bg='#FFFF00'\u001B[0m\n",
      "...\n",
      "\u001B[48;2;255;255;0m\u001B[38;2;255;0;0mfore='FF0000', bg='#FFFF00'\u001B[0m\n",
      "normal text ... \u001B[48;2;255;255;0m\u001B[38;2;255;0;0m\u001B[1m\u001B[3mfore=red, bg=yellow, style=bold+italic\u001B[0m !!!\n"
     ]
    }
   ],
   "source": [
    "ry_print = create_print(fore='FF0000', bg='#FFFF00')  # ry: red and yellow\n",
    "inner_ry_text = create_print('FF0000', '#FFFF00', Style.BOLD + Style.ITALIC, pf=False)\n",
    "msg = \"fore='FF0000', bg='#FFFF00'\"\n",
    "print(msg)\n",
    "ry_print(msg)\n",
    "print('...')\n",
    "ry_print(msg)\n",
    "\n",
    "print(f'normal text ... {inner_ry_text(\"fore=red, bg=yellow, style=bold+italic\")} !!!')"
   ]
  },
  {
   "cell_type": "markdown",
   "metadata": {},
   "source": [
    "## Try by yourself\n",
    "\n",
    "If you have no idea how to use this library, you can input by indicate, and then it will tell you what the grammar you should write."
   ]
  },
  {
   "cell_type": "code",
   "execution_count": 8,
   "metadata": {
    "pycharm": {
     "name": "#%%\n"
    }
   },
   "outputs": [
    {
     "name": "stdout",
     "output_type": "stream",
     "text": [
      "text:Hello World\n",
      "Fore (#XXYYRR) (r, g, b):255, 0, 0\n",
      "Background (#XXYYRR) (r, g, b):ffff00\n",
      "Style (BOLD, ITALIC, URL, STRIKE) sep=\" \":Bold URL\n",
      "grammar: \u001B[48;2;0;0;0m\u001B[38;2;0;255;0mcprint(\"Hello World\", fore=(255, 0, 0), bg=\"ffff00\", style=Style.BOLD+Style.URL)\u001B[0m\n",
      "\u001B[48;2;255;255;0m\u001B[38;2;255;0;0m\u001B[1m\u001B[4mHello World\u001B[0m\n"
     ]
    }
   ],
   "source": [
    "text = chr(34) + input('text:') + chr(34)\n",
    "in_fore = input('Fore (#XXYYRR) (r, g, b):')\n",
    "if in_fore:\n",
    "    in_fore = str(eval(in_fore)) if in_fore.find(',') != -1 else chr(34) + in_fore + chr(34)\n",
    "\n",
    "in_bg = input('Background (#XXYYRR) (r, g, b):')\n",
    "if in_bg:\n",
    "    in_bg = str(eval(in_bg)) if in_bg.find(',') != -1 else chr(34) + in_bg + chr(34)\n",
    "\n",
    "in_style = input('Style (BOLD, ITALIC, URL, STRIKE) sep=\" \":').split(' ')\n",
    "if in_style:\n",
    "    in_style = '+'.join([f'Style.{_.upper()}' for _ in in_style])\n",
    "print_cmd = f\"cprint({text}{', fore=' + in_fore if in_fore else ''}\" \\\n",
    "            f\"{', bg=' + in_bg if in_bg else ''}\" \\\n",
    "            f\"{', style=' + in_style if in_style else ''})\"\n",
    "print(f'grammar: {cprint(print_cmd, RGB.GREEN, RGB.BLACK, pf=False)}')\n",
    "exec(print_cmd)"
   ]
  }
 ],
 "metadata": {
  "kernelspec": {
   "display_name": "Python 3",
   "language": "python",
   "name": "python3"
  },
  "language_info": {
   "codemirror_mode": {
    "name": "ipython",
    "version": 3
   },
   "file_extension": ".py",
   "mimetype": "text/x-python",
   "name": "python",
   "nbconvert_exporter": "python",
   "pygments_lexer": "ipython3",
   "version": "3.7.3"
  }
 },
 "nbformat": 4,
 "nbformat_minor": 1
}